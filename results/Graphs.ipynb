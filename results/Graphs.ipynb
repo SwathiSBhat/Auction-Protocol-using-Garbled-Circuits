{
 "cells": [
  {
   "cell_type": "code",
   "execution_count": 1,
   "metadata": {},
   "outputs": [],
   "source": [
    "import plotly.plotly as py\n",
    "import plotly.graph_objs as go\n",
    "from plotly import tools\n",
    "import numpy as np\n",
    "from plotly.offline import download_plotlyjs, init_notebook_mode, plot, iplot"
   ]
  },
  {
   "cell_type": "code",
   "execution_count": 2,
   "metadata": {},
   "outputs": [
    {
     "data": {
      "text/html": [
       "<script type=\"text/javascript\">window.PlotlyConfig = {MathJaxConfig: 'local'};</script><script type=\"text/javascript\">if (window.MathJax) {MathJax.Hub.Config({SVG: {font: \"STIX-Web\"}});}</script><script>requirejs.config({paths: { 'plotly': ['https://cdn.plot.ly/plotly-latest.min']},});if(!window._Plotly) {require(['plotly'],function(plotly) {window._Plotly=plotly;});}</script>"
      ],
      "text/vnd.plotly.v1+html": [
       "<script type=\"text/javascript\">window.PlotlyConfig = {MathJaxConfig: 'local'};</script><script type=\"text/javascript\">if (window.MathJax) {MathJax.Hub.Config({SVG: {font: \"STIX-Web\"}});}</script><script>requirejs.config({paths: { 'plotly': ['https://cdn.plot.ly/plotly-latest.min']},});if(!window._Plotly) {require(['plotly'],function(plotly) {window._Plotly=plotly;});}</script>"
      ]
     },
     "metadata": {},
     "output_type": "display_data"
    }
   ],
   "source": [
    "init_notebook_mode(connected=True)"
   ]
  },
  {
   "cell_type": "code",
   "execution_count": 3,
   "metadata": {},
   "outputs": [
    {
     "name": "stdout",
     "output_type": "stream",
     "text": [
      "This is the format of your plot grid:\n",
      "[ (1,1) x1,y1 ]  [ (1,2) x2,y2 ]\n",
      "\n"
     ]
    },
    {
     "data": {
      "application/vnd.plotly.v1+json": {
       "data": [
        {
         "mode": "markers+lines",
         "type": "scatter",
         "uid": "ddae48fa-ed2d-49a2-9958-54a1d573b864",
         "x": [
          2,
          3,
          4,
          5,
          6,
          7,
          8,
          9,
          10
         ],
         "xaxis": "x",
         "y": [
          71,
          213,
          426,
          710,
          1065,
          1491,
          1988,
          2556,
          3195
         ],
         "yaxis": "y"
        },
        {
         "mode": "markers+lines",
         "type": "scatter",
         "uid": "d4720a0a-d987-42be-8188-c6c27a0c3374",
         "x": [
          8,
          9,
          10,
          11,
          12,
          13,
          14,
          15,
          16
         ],
         "xaxis": "x2",
         "y": [
          3195,
          3645,
          4095,
          4545,
          4995,
          5445,
          5895,
          6345,
          6795
         ],
         "yaxis": "y2"
        }
       ],
       "layout": {
        "font": {
         "family": "Times New Roman"
        },
        "showlegend": false,
        "xaxis": {
         "anchor": "y",
         "domain": [
          0,
          0.45
         ],
         "title": "No. of bidders"
        },
        "xaxis2": {
         "anchor": "y2",
         "domain": [
          0.55,
          1
         ],
         "title": "Bid size (bits)"
        },
        "yaxis": {
         "anchor": "x",
         "domain": [
          0,
          1
         ],
         "title": "No. of gates"
        },
        "yaxis2": {
         "anchor": "x2",
         "domain": [
          0,
          1
         ],
         "title": "No. of gates"
        }
       }
      },
      "text/html": [
       "<div id=\"550ad4a1-42b5-4810-ac54-c8901137e247\" style=\"height: 525px; width: 100%;\" class=\"plotly-graph-div\"></div><script type=\"text/javascript\">require([\"plotly\"], function(Plotly) { window.PLOTLYENV=window.PLOTLYENV || {};window.PLOTLYENV.BASE_URL=\"https://plot.ly\";Plotly.newPlot(\"550ad4a1-42b5-4810-ac54-c8901137e247\", [{\"uid\": \"ddae48fa-ed2d-49a2-9958-54a1d573b864\", \"yaxis\": \"y\", \"mode\": \"markers+lines\", \"xaxis\": \"x\", \"y\": [71, 213, 426, 710, 1065, 1491, 1988, 2556, 3195], \"x\": [2, 3, 4, 5, 6, 7, 8, 9, 10], \"type\": \"scatter\"}, {\"uid\": \"d4720a0a-d987-42be-8188-c6c27a0c3374\", \"yaxis\": \"y2\", \"mode\": \"markers+lines\", \"xaxis\": \"x2\", \"y\": [3195, 3645, 4095, 4545, 4995, 5445, 5895, 6345, 6795], \"x\": [8, 9, 10, 11, 12, 13, 14, 15, 16], \"type\": \"scatter\"}], {\"showlegend\": false, \"yaxis\": {\"domain\": [0.0, 1.0], \"anchor\": \"x\", \"title\": \"No. of gates\"}, \"xaxis2\": {\"domain\": [0.55, 1.0], \"anchor\": \"y2\", \"title\": \"Bid size (bits)\"}, \"yaxis2\": {\"domain\": [0.0, 1.0], \"anchor\": \"x2\", \"title\": \"No. of gates\"}, \"xaxis\": {\"domain\": [0.0, 0.45], \"anchor\": \"y\", \"title\": \"No. of bidders\"}, \"font\": {\"family\": \"Times New Roman\"}}, {\"linkText\": \"Export to plot.ly\", \"showLink\": true})});</script><script type=\"text/javascript\">window.addEventListener(\"resize\", function(){window._Plotly.Plots.resize(document.getElementById(\"550ad4a1-42b5-4810-ac54-c8901137e247\"));});</script>"
      ],
      "text/vnd.plotly.v1+html": [
       "<div id=\"550ad4a1-42b5-4810-ac54-c8901137e247\" style=\"height: 525px; width: 100%;\" class=\"plotly-graph-div\"></div><script type=\"text/javascript\">require([\"plotly\"], function(Plotly) { window.PLOTLYENV=window.PLOTLYENV || {};window.PLOTLYENV.BASE_URL=\"https://plot.ly\";Plotly.newPlot(\"550ad4a1-42b5-4810-ac54-c8901137e247\", [{\"uid\": \"ddae48fa-ed2d-49a2-9958-54a1d573b864\", \"yaxis\": \"y\", \"mode\": \"markers+lines\", \"xaxis\": \"x\", \"y\": [71, 213, 426, 710, 1065, 1491, 1988, 2556, 3195], \"x\": [2, 3, 4, 5, 6, 7, 8, 9, 10], \"type\": \"scatter\"}, {\"uid\": \"d4720a0a-d987-42be-8188-c6c27a0c3374\", \"yaxis\": \"y2\", \"mode\": \"markers+lines\", \"xaxis\": \"x2\", \"y\": [3195, 3645, 4095, 4545, 4995, 5445, 5895, 6345, 6795], \"x\": [8, 9, 10, 11, 12, 13, 14, 15, 16], \"type\": \"scatter\"}], {\"showlegend\": false, \"yaxis\": {\"domain\": [0.0, 1.0], \"anchor\": \"x\", \"title\": \"No. of gates\"}, \"xaxis2\": {\"domain\": [0.55, 1.0], \"anchor\": \"y2\", \"title\": \"Bid size (bits)\"}, \"yaxis2\": {\"domain\": [0.0, 1.0], \"anchor\": \"x2\", \"title\": \"No. of gates\"}, \"xaxis\": {\"domain\": [0.0, 0.45], \"anchor\": \"y\", \"title\": \"No. of bidders\"}, \"font\": {\"family\": \"Times New Roman\"}}, {\"linkText\": \"Export to plot.ly\", \"showLink\": true})});</script><script type=\"text/javascript\">window.addEventListener(\"resize\", function(){window._Plotly.Plots.resize(document.getElementById(\"550ad4a1-42b5-4810-ac54-c8901137e247\"));});</script>"
      ]
     },
     "metadata": {},
     "output_type": "display_data"
    }
   ],
   "source": [
    "# graph for number of gates vs number of bidders and bid size\n",
    "\n",
    "\n",
    "trace1 = go.Scatter(\n",
    "    x=range(2,11),\n",
    "    y=[71, 213, 426, 710, 1065, 1491, 1988, 2556, 3195],\n",
    "    mode='markers+lines',\n",
    ")\n",
    "trace2 = go.Scatter(\n",
    "    x=range(8,17),\n",
    "    y=[3195, 3645, 4095, 4545, 4995, 5445, 5895, 6345, 6795],\n",
    "    mode='markers+lines',\n",
    ")\n",
    "\n",
    "fig = tools.make_subplots(rows=1, cols=2)\n",
    "\n",
    "fig.append_trace(trace1, 1, 1)\n",
    "fig.append_trace(trace2, 1, 2)\n",
    "\n",
    "fig['layout'].update(showlegend=False, font=dict(family='Times New Roman'))\n",
    "fig['layout']['xaxis1'].update(title='No. of bidders')\n",
    "fig['layout']['xaxis2'].update(title='Bid size (bits)')\n",
    "fig['layout']['yaxis1'].update(title='No. of gates')\n",
    "fig['layout']['yaxis2'].update(title='No. of gates')\n",
    "\n",
    "\n",
    "iplot(fig, filename='auction_circuit')"
   ]
  },
  {
   "cell_type": "code",
   "execution_count": 4,
   "metadata": {},
   "outputs": [
    {
     "data": {
      "application/vnd.plotly.v1+json": {
       "data": [
        {
         "type": "scatter",
         "uid": "99f6eef9-6787-490e-9c06-ef7f518a4889",
         "x": [
          2,
          3,
          4,
          5,
          6,
          7,
          8,
          9,
          10
         ],
         "y": [
          0.873376,
          1.766632,
          3.027184,
          4.767953,
          7.547901,
          9.481863,
          13.4765,
          16.59578,
          19.74234
         ]
        }
       ],
       "layout": {
        "font": {
         "family": "Times New Roman"
        },
        "xaxis": {
         "title": "Number of bidders"
        },
        "yaxis": {
         "title": "CPU Time (sec)"
        }
       }
      },
      "text/html": [
       "<div id=\"b6c3a117-ed5c-43ed-ab38-a03ff90972cc\" style=\"height: 525px; width: 100%;\" class=\"plotly-graph-div\"></div><script type=\"text/javascript\">require([\"plotly\"], function(Plotly) { window.PLOTLYENV=window.PLOTLYENV || {};window.PLOTLYENV.BASE_URL=\"https://plot.ly\";Plotly.newPlot(\"b6c3a117-ed5c-43ed-ab38-a03ff90972cc\", [{\"y\": [0.873376, 1.766632, 3.027184, 4.767953, 7.547901, 9.481863, 13.4765, 16.59578, 19.74234], \"x\": [2, 3, 4, 5, 6, 7, 8, 9, 10], \"type\": \"scatter\", \"uid\": \"f92657bf-cb0f-4ccd-84b0-f659805f5a39\"}], {\"font\": {\"family\": \"Times New Roman\"}, \"xaxis\": {\"title\": \"Number of bidders\"}, \"yaxis\": {\"title\": \"CPU Time (sec)\"}}, {\"linkText\": \"Export to plot.ly\", \"showLink\": true})});</script><script type=\"text/javascript\">window.addEventListener(\"resize\", function(){window._Plotly.Plots.resize(document.getElementById(\"b6c3a117-ed5c-43ed-ab38-a03ff90972cc\"));});</script>"
      ],
      "text/vnd.plotly.v1+html": [
       "<div id=\"b6c3a117-ed5c-43ed-ab38-a03ff90972cc\" style=\"height: 525px; width: 100%;\" class=\"plotly-graph-div\"></div><script type=\"text/javascript\">require([\"plotly\"], function(Plotly) { window.PLOTLYENV=window.PLOTLYENV || {};window.PLOTLYENV.BASE_URL=\"https://plot.ly\";Plotly.newPlot(\"b6c3a117-ed5c-43ed-ab38-a03ff90972cc\", [{\"y\": [0.873376, 1.766632, 3.027184, 4.767953, 7.547901, 9.481863, 13.4765, 16.59578, 19.74234], \"x\": [2, 3, 4, 5, 6, 7, 8, 9, 10], \"type\": \"scatter\", \"uid\": \"f92657bf-cb0f-4ccd-84b0-f659805f5a39\"}], {\"font\": {\"family\": \"Times New Roman\"}, \"xaxis\": {\"title\": \"Number of bidders\"}, \"yaxis\": {\"title\": \"CPU Time (sec)\"}}, {\"linkText\": \"Export to plot.ly\", \"showLink\": true})});</script><script type=\"text/javascript\">window.addEventListener(\"resize\", function(){window._Plotly.Plots.resize(document.getElementById(\"b6c3a117-ed5c-43ed-ab38-a03ff90972cc\"));});</script>"
      ]
     },
     "metadata": {},
     "output_type": "display_data"
    }
   ],
   "source": [
    "# graph for auction circuit evaluation with varying number of bidders. Bid size = 8 bits\n",
    "\n",
    "bidders = [2, 3, 4, 5, 6, 7, 8, 9, 10]\n",
    "time = [0.873376, 1.766632, 3.027184, 4.767953, 7.547901, 9.481863, 13.47650, 16.59578, 19.74234]\n",
    "\n",
    "trace = go.Scatter(\n",
    "    x = bidders,\n",
    "    y = time,\n",
    "    \n",
    ")\n",
    "\n",
    "layout = dict(\n",
    "              xaxis = dict(title = 'Number of bidders'),\n",
    "              yaxis = dict(title = 'CPU Time (sec)'),\n",
    "              font=dict(family='Times New Roman')\n",
    "              )\n",
    "\n",
    "data = [trace]\n",
    "\n",
    "fig = dict(data=data, layout=layout)\n",
    "iplot(fig,filename='basic-line')\n"
   ]
  },
  {
   "cell_type": "code",
   "execution_count": 8,
   "metadata": {},
   "outputs": [
    {
     "data": {
      "application/vnd.plotly.v1+json": {
       "data": [
        {
         "type": "scatter",
         "uid": "db927abd-d31b-42a6-bff8-0cc72899be37",
         "x": [
          2,
          3,
          4,
          5,
          6,
          7,
          8,
          9
         ],
         "y": [
          40.85591,
          114.3525,
          225.0013,
          394.1819,
          634.5691,
          830.1232,
          1105.156,
          1433.747
         ]
        }
       ],
       "layout": {
        "font": {
         "family": "Times New Roman"
        },
        "xaxis": {
         "title": "Number of bidders"
        },
        "yaxis": {
         "title": "CPU Time (sec)"
        }
       }
      },
      "text/html": [
       "<div id=\"fc7a2bfc-5e3a-48fe-b9a3-2e9fd6e4181c\" style=\"height: 525px; width: 100%;\" class=\"plotly-graph-div\"></div><script type=\"text/javascript\">require([\"plotly\"], function(Plotly) { window.PLOTLYENV=window.PLOTLYENV || {};window.PLOTLYENV.BASE_URL=\"https://plot.ly\";Plotly.newPlot(\"fc7a2bfc-5e3a-48fe-b9a3-2e9fd6e4181c\", [{\"y\": [40.85591, 114.3525, 225.0013, 394.1819, 634.5691, 830.1232, 1105.156, 1433.747], \"x\": [2, 3, 4, 5, 6, 7, 8, 9], \"type\": \"scatter\", \"uid\": \"9c991401-8f1c-4f4f-9fdd-b8df7ad704bb\"}], {\"font\": {\"family\": \"Times New Roman\"}, \"xaxis\": {\"title\": \"Number of bidders\"}, \"yaxis\": {\"title\": \"CPU Time (sec)\"}}, {\"linkText\": \"Export to plot.ly\", \"showLink\": true})});</script><script type=\"text/javascript\">window.addEventListener(\"resize\", function(){window._Plotly.Plots.resize(document.getElementById(\"fc7a2bfc-5e3a-48fe-b9a3-2e9fd6e4181c\"));});</script>"
      ],
      "text/vnd.plotly.v1+html": [
       "<div id=\"fc7a2bfc-5e3a-48fe-b9a3-2e9fd6e4181c\" style=\"height: 525px; width: 100%;\" class=\"plotly-graph-div\"></div><script type=\"text/javascript\">require([\"plotly\"], function(Plotly) { window.PLOTLYENV=window.PLOTLYENV || {};window.PLOTLYENV.BASE_URL=\"https://plot.ly\";Plotly.newPlot(\"fc7a2bfc-5e3a-48fe-b9a3-2e9fd6e4181c\", [{\"y\": [40.85591, 114.3525, 225.0013, 394.1819, 634.5691, 830.1232, 1105.156, 1433.747], \"x\": [2, 3, 4, 5, 6, 7, 8, 9], \"type\": \"scatter\", \"uid\": \"9c991401-8f1c-4f4f-9fdd-b8df7ad704bb\"}], {\"font\": {\"family\": \"Times New Roman\"}, \"xaxis\": {\"title\": \"Number of bidders\"}, \"yaxis\": {\"title\": \"CPU Time (sec)\"}}, {\"linkText\": \"Export to plot.ly\", \"showLink\": true})});</script><script type=\"text/javascript\">window.addEventListener(\"resize\", function(){window._Plotly.Plots.resize(document.getElementById(\"fc7a2bfc-5e3a-48fe-b9a3-2e9fd6e4181c\"));});</script>"
      ]
     },
     "metadata": {},
     "output_type": "display_data"
    }
   ],
   "source": [
    "# graph for time taken for circuit generation with varying number of bidders\n",
    "\n",
    "bidders = [2,3,4,5,6,7,8,9]\n",
    "ttot = [40.85591, 114.3525, 225.0013, 394.1819, 634.5691, 830.1232, 1105.156, 1433.747]\n",
    "\n",
    "trace = go.Scatter(\n",
    "    x = bidders,\n",
    "    y = ttot,\n",
    "    \n",
    ")\n",
    "\n",
    "layout = dict(\n",
    "              xaxis = dict(title = 'Number of bidders'),\n",
    "              yaxis = dict(title = 'CPU Time (sec)'),\n",
    "              font=dict(family='Times New Roman')\n",
    "              )\n",
    "\n",
    "data = [trace]\n",
    "\n",
    "fig = dict(data=data, layout=layout)\n",
    "iplot(fig,filename='basic-line')\n"
   ]
  },
  {
   "cell_type": "code",
   "execution_count": 7,
   "metadata": {},
   "outputs": [],
   "source": [
    "# graph for circuit evaluation for different length primes\n",
    "# no. of bidders = 4, bid size = 8 number of circuits n = 10\n",
    "\n",
    "prime_len = [16, 32, 64, 128, 256]\n",
    "ttot = [3.106635, 3.037370,  ]"
   ]
  },
  {
   "cell_type": "code",
   "execution_count": null,
   "metadata": {},
   "outputs": [],
   "source": []
  }
 ],
 "metadata": {
  "kernelspec": {
   "display_name": "Python 2",
   "language": "python",
   "name": "python2"
  },
  "language_info": {
   "codemirror_mode": {
    "name": "ipython",
    "version": 2
   },
   "file_extension": ".py",
   "mimetype": "text/x-python",
   "name": "python",
   "nbconvert_exporter": "python",
   "pygments_lexer": "ipython2",
   "version": "2.7.10"
  }
 },
 "nbformat": 4,
 "nbformat_minor": 2
}
